{
  "nbformat": 4,
  "nbformat_minor": 0,
  "metadata": {
    "colab": {
      "name": "pyspark_rapid_setup.ipynb",
      "version": "0.3.2",
      "provenance": [],
      "collapsed_sections": [],
      "include_colab_link": true
    },
    "kernelspec": {
      "name": "python3",
      "display_name": "Python 3"
    }
  },
  "cells": [
    {
      "cell_type": "markdown",
      "metadata": {
        "id": "view-in-github",
        "colab_type": "text"
      },
      "source": [
        "<a href=\"https://colab.research.google.com/github/kasprova/advanced_customer_analytics/blob/master/supplements/pyspark_rapid_setup.ipynb\" target=\"_parent\"><img src=\"https://colab.research.google.com/assets/colab-badge.svg\" alt=\"Open In Colab\"/></a>"
      ]
    },
    {
      "cell_type": "code",
      "metadata": {
        "id": "9_B4_2gxQE8w",
        "colab_type": "code",
        "outputId": "31a038ba-49a0-421f-e3c8-58282aa5f708",
        "colab": {
          "base_uri": "https://localhost:8080/",
          "height": 332
        }
      },
      "source": [
        "!nvidia-smi"
      ],
      "execution_count": 0,
      "outputs": [
        {
          "output_type": "stream",
          "text": [
            "Thu Sep 12 11:27:12 2019       \n",
            "+-----------------------------------------------------------------------------+\n",
            "| NVIDIA-SMI 430.40       Driver Version: 418.67       CUDA Version: 10.1     |\n",
            "|-------------------------------+----------------------+----------------------+\n",
            "| GPU  Name        Persistence-M| Bus-Id        Disp.A | Volatile Uncorr. ECC |\n",
            "| Fan  Temp  Perf  Pwr:Usage/Cap|         Memory-Usage | GPU-Util  Compute M. |\n",
            "|===============================+======================+======================|\n",
            "|   0  Tesla T4            Off  | 00000000:00:04.0 Off |                    0 |\n",
            "| N/A   39C    P8     9W /  70W |      0MiB / 15079MiB |      0%      Default |\n",
            "+-------------------------------+----------------------+----------------------+\n",
            "                                                                               \n",
            "+-----------------------------------------------------------------------------+\n",
            "| Processes:                                                       GPU Memory |\n",
            "|  GPU       PID   Type   Process name                             Usage      |\n",
            "|=============================================================================|\n",
            "|  No running processes found                                                 |\n",
            "+-----------------------------------------------------------------------------+\n"
          ],
          "name": "stdout"
        }
      ]
    },
    {
      "cell_type": "markdown",
      "metadata": {
        "id": "7BEuDkrfMsAJ",
        "colab_type": "text"
      },
      "source": [
        "### pySpark setup"
      ]
    },
    {
      "cell_type": "code",
      "metadata": {
        "id": "F7Kz-fggsaSR",
        "colab_type": "code",
        "colab": {}
      },
      "source": [
        "!apt-get install openjdk-8-jdk-headless -qq > /dev/null\n",
        "!wget -q https://www-us.apache.org/dist/spark/spark-2.4.4/spark-2.4.4-bin-hadoop2.7.tgz\n",
        "!tar xf spark-2.4.4-bin-hadoop2.7.tgz\n",
        "!pip install -q findspark"
      ],
      "execution_count": 0,
      "outputs": []
    },
    {
      "cell_type": "code",
      "metadata": {
        "id": "EvGz6sEDsnMz",
        "colab_type": "code",
        "colab": {}
      },
      "source": [
        "import os\n",
        "os.environ[\"JAVA_HOME\"] = \"/usr/lib/jvm/java-8-openjdk-amd64\"\n",
        "os.environ[\"SPARK_HOME\"] = \"/content/spark-2.4.4-bin-hadoop2.7\""
      ],
      "execution_count": 0,
      "outputs": []
    },
    {
      "cell_type": "code",
      "metadata": {
        "id": "l_ysr0hWMmYB",
        "colab_type": "code",
        "colab": {}
      },
      "source": [
        "import findspark\n",
        "findspark.init()\n",
        "\n",
        "import pyspark\n",
        "from pyspark import SparkConf\n",
        "conf = SparkConf().setAppName(\"App\")\n",
        "conf = (conf.set('spark.driver.memory', '10G'))\n",
        "\n",
        "sc = pyspark.SparkContext(conf=conf)\n",
        "from pyspark.sql import SQLContext\n",
        "sql = SQLContext(sc)\n",
        "\n",
        "from pyspark.sql import SparkSession\n",
        "spark = SparkSession.builder.master(\"local[*]\").getOrCreate()"
      ],
      "execution_count": 0,
      "outputs": []
    },
    {
      "cell_type": "code",
      "metadata": {
        "id": "lKZQHakcNDqr",
        "colab_type": "code",
        "colab": {}
      },
      "source": [
        "from pyspark.sql.functions import dayofmonth, to_date, datediff, length, first"
      ],
      "execution_count": 0,
      "outputs": []
    },
    {
      "cell_type": "markdown",
      "metadata": {
        "id": "zZZv3fvnl7bW",
        "colab_type": "text"
      },
      "source": [
        "### RAPID setup"
      ]
    },
    {
      "cell_type": "code",
      "metadata": {
        "id": "3MB-mY-cA1AI",
        "colab_type": "code",
        "outputId": "e8e77fca-6908-4778-8390-e1295cda35f8",
        "colab": {
          "base_uri": "https://localhost:8080/",
          "height": 92
        }
      },
      "source": [
        "#check cuda version (>=9.2)\n",
        "!nvcc -V"
      ],
      "execution_count": 0,
      "outputs": [
        {
          "output_type": "stream",
          "text": [
            "nvcc: NVIDIA (R) Cuda compiler driver\n",
            "Copyright (c) 2005-2018 NVIDIA Corporation\n",
            "Built on Sat_Aug_25_21:08:01_CDT_2018\n",
            "Cuda compilation tools, release 10.0, V10.0.130\n"
          ],
          "name": "stdout"
        }
      ]
    },
    {
      "cell_type": "code",
      "metadata": {
        "id": "IlOQedjJBaLV",
        "colab_type": "code",
        "outputId": "b2c17e48-9695-4954-d4ce-0f5143fd708c",
        "colab": {
          "base_uri": "https://localhost:8080/",
          "height": 54
        }
      },
      "source": [
        "#check python and pip version (python==3.6)\n",
        "!python -V; pip -V"
      ],
      "execution_count": 0,
      "outputs": [
        {
          "output_type": "stream",
          "text": [
            "Python 3.6.5 :: Anaconda, Inc.\n",
            "pip 10.0.1 from /usr/local/lib/python3.6/site-packages/pip (python 3.6)\n"
          ],
          "name": "stdout"
        }
      ]
    },
    {
      "cell_type": "code",
      "metadata": {
        "id": "5oNNPSWKmBgT",
        "colab_type": "code",
        "outputId": "d536018e-e5d7-4d42-85d7-5e322790efca",
        "colab": {
          "base_uri": "https://localhost:8080/",
          "height": 260
        }
      },
      "source": [
        "!pip install cudf-cuda100\n",
        "\n",
        "import os  \n",
        "os.environ['NUMBAPRO_NVVM']='/usr/local/cuda-10.0/nvvm/lib64/libnvvm.so'  \n",
        "os.environ['NUMBAPRO_LIBDEVICE']='/usr/local/cuda-10.0/nvvm/libdevice'\n",
        "\n",
        "import cudf"
      ],
      "execution_count": 0,
      "outputs": [
        {
          "output_type": "stream",
          "text": [
            "Requirement already satisfied: cudf-cuda100 in /usr/local/lib/python3.6/site-packages (0.6.1)\n",
            "Requirement already satisfied: pyarrow==0.12.1 in /usr/local/lib/python3.6/site-packages (from cudf-cuda100) (0.12.1)\n",
            "Requirement already satisfied: pycparser==2.19 in /usr/local/lib/python3.6/site-packages (from cudf-cuda100) (2.19)\n",
            "Requirement already satisfied: cffi>=1.0.0 in /usr/local/lib/python3.6/site-packages (from cudf-cuda100) (1.11.5)\n",
            "Requirement already satisfied: nvstrings-cuda100 in /usr/local/lib/python3.6/site-packages (from cudf-cuda100) (0.3.0.post1)\n",
            "Requirement already satisfied: cython<0.30,>=0.29 in /usr/local/lib/python3.6/site-packages (from cudf-cuda100) (0.29.13)\n",
            "Requirement already satisfied: pandas>=0.23.4 in /usr/local/lib/python3.6/site-packages (from cudf-cuda100) (0.25.1)\n",
            "Requirement already satisfied: numpy>=1.14 in /usr/local/lib/python3.6/site-packages (from cudf-cuda100) (1.17.2)\n",
            "Requirement already satisfied: numba<0.42,>=0.40.0 in /usr/local/lib/python3.6/site-packages (from cudf-cuda100) (0.41.0)\n",
            "Requirement already satisfied: six>=1.0.0 in /usr/local/lib/python3.6/site-packages (from pyarrow==0.12.1->cudf-cuda100) (1.11.0)\n",
            "Requirement already satisfied: pytz>=2017.2 in /usr/local/lib/python3.6/site-packages (from pandas>=0.23.4->cudf-cuda100) (2019.2)\n",
            "Requirement already satisfied: python-dateutil>=2.6.1 in /usr/local/lib/python3.6/site-packages (from pandas>=0.23.4->cudf-cuda100) (2.8.0)\n",
            "Requirement already satisfied: llvmlite>=0.26.0dev0 in /usr/local/lib/python3.6/site-packages (from numba<0.42,>=0.40.0->cudf-cuda100) (0.29.0)\n"
          ],
          "name": "stdout"
        }
      ]
    },
    {
      "cell_type": "code",
      "metadata": {
        "id": "ODp5RXi6BVXB",
        "colab_type": "code",
        "colab": {}
      },
      "source": [
        "!cp /usr/local/lib/python3.6/site-packages/librmm.so ."
      ],
      "execution_count": 0,
      "outputs": []
    },
    {
      "cell_type": "code",
      "metadata": {
        "id": "AmWLabCgGOB_",
        "colab_type": "code",
        "outputId": "4bc341bf-1896-450a-e654-a28fa7bfeda0",
        "colab": {
          "base_uri": "https://localhost:8080/",
          "height": 73
        }
      },
      "source": [
        "#!find / -name libcuml.so"
      ],
      "execution_count": 0,
      "outputs": [
        {
          "output_type": "stream",
          "text": [
            "find: ‘/proc/558/task/558/net’: Invalid argument\n",
            "find: ‘/proc/558/net’: Invalid argument\n",
            "/usr/local/lib/python3.6/site-packages/libcuml.so\n"
          ],
          "name": "stdout"
        }
      ]
    },
    {
      "cell_type": "code",
      "metadata": {
        "id": "fCktJAQU6Dls",
        "colab_type": "code",
        "outputId": "d7cba87d-0e49-4df3-defd-c74f54a649d2",
        "colab": {
          "base_uri": "https://localhost:8080/",
          "height": 391
        }
      },
      "source": [
        "# installing cuml dependencies\n",
        "!apt install libopenblas-base libomp-dev # installing the cuml \n",
        "!pip install cuml-cuda100"
      ],
      "execution_count": 0,
      "outputs": [
        {
          "output_type": "stream",
          "text": [
            "Reading package lists... Done\n",
            "Building dependency tree       \n",
            "Reading state information... Done\n",
            "libomp-dev is already the newest version (5.0.1-1).\n",
            "libopenblas-base is already the newest version (0.2.20+ds-4).\n",
            "0 upgraded, 0 newly installed, 0 to remove and 8 not upgraded.\n",
            "Requirement already satisfied: cuml-cuda100 in /usr/local/lib/python3.6/site-packages (0.6.1)\n",
            "Requirement already satisfied: cudf-cuda100<0.7.1,>=0.6.1 in /usr/local/lib/python3.6/site-packages (from cuml-cuda100) (0.6.1)\n",
            "Requirement already satisfied: cython>=0.29<0.30 in /usr/local/lib/python3.6/site-packages (from cuml-cuda100) (0.29.13)\n",
            "Requirement already satisfied: numpy in /usr/local/lib/python3.6/site-packages (from cuml-cuda100) (1.17.2)\n",
            "Requirement already satisfied: nvstrings-cuda100 in /usr/local/lib/python3.6/site-packages (from cudf-cuda100<0.7.1,>=0.6.1->cuml-cuda100) (0.3.0.post1)\n",
            "Requirement already satisfied: pyarrow==0.12.1 in /usr/local/lib/python3.6/site-packages (from cudf-cuda100<0.7.1,>=0.6.1->cuml-cuda100) (0.12.1)\n",
            "Requirement already satisfied: cffi>=1.0.0 in /usr/local/lib/python3.6/site-packages (from cudf-cuda100<0.7.1,>=0.6.1->cuml-cuda100) (1.11.5)\n",
            "Requirement already satisfied: pycparser==2.19 in /usr/local/lib/python3.6/site-packages (from cudf-cuda100<0.7.1,>=0.6.1->cuml-cuda100) (2.19)\n",
            "Requirement already satisfied: pandas>=0.23.4 in /usr/local/lib/python3.6/site-packages (from cudf-cuda100<0.7.1,>=0.6.1->cuml-cuda100) (0.25.1)\n",
            "Requirement already satisfied: numba<0.42,>=0.40.0 in /usr/local/lib/python3.6/site-packages (from cudf-cuda100<0.7.1,>=0.6.1->cuml-cuda100) (0.41.0)\n",
            "Requirement already satisfied: six>=1.0.0 in /usr/local/lib/python3.6/site-packages (from pyarrow==0.12.1->cudf-cuda100<0.7.1,>=0.6.1->cuml-cuda100) (1.11.0)\n",
            "Requirement already satisfied: pytz>=2017.2 in /usr/local/lib/python3.6/site-packages (from pandas>=0.23.4->cudf-cuda100<0.7.1,>=0.6.1->cuml-cuda100) (2019.2)\n",
            "Requirement already satisfied: python-dateutil>=2.6.1 in /usr/local/lib/python3.6/site-packages (from pandas>=0.23.4->cudf-cuda100<0.7.1,>=0.6.1->cuml-cuda100) (2.8.0)\n",
            "Requirement already satisfied: llvmlite>=0.26.0dev0 in /usr/local/lib/python3.6/site-packages (from numba<0.42,>=0.40.0->cudf-cuda100<0.7.1,>=0.6.1->cuml-cuda100) (0.29.0)\n"
          ],
          "name": "stdout"
        }
      ]
    },
    {
      "cell_type": "code",
      "metadata": {
        "id": "pQ4FVJEh-xUV",
        "colab_type": "code",
        "colab": {}
      },
      "source": [
        "!cp /usr/local/lib/python3.6/site-packages/libcuml.so /usr/lib64-nvidia/\n",
        "import cuml"
      ],
      "execution_count": 0,
      "outputs": []
    },
    {
      "cell_type": "code",
      "metadata": {
        "id": "6ake8KMGcZ1h",
        "colab_type": "code",
        "colab": {}
      },
      "source": [
        "import numpy as np\n",
        "import pandas as pd\n",
        "from pandas.plotting import scatter_matrix\n",
        "pd.set_option('display.max_columns', None)\n",
        "\n",
        "import matplotlib.pyplot as plt\n",
        "import matplotlib.cm as cm\n",
        "%matplotlib inline \n",
        "plt.style.use('ggplot')\n",
        "#plt.style.use('default')\n",
        "plt.rcParams[\"figure.figsize\"] = (30,30)\n",
        "\n",
        "from sklearn.preprocessing import MinMaxScaler\n",
        "from sklearn.metrics import silhouette_score, silhouette_samples\n",
        "#from sklearn.cluster import KMeans\n",
        "#from sklearn.decomposition import PCA\n",
        "from cuml import DBSCAN, KMeans, PCA\n",
        "from collections import Counter"
      ],
      "execution_count": 0,
      "outputs": []
    },
    {
      "cell_type": "markdown",
      "metadata": {
        "id": "TX0J2uZNTyFr",
        "colab_type": "text"
      },
      "source": [
        "### Snippets"
      ]
    },
    {
      "cell_type": "code",
      "metadata": {
        "id": "xWDSxa0TTxR7",
        "colab_type": "code",
        "colab": {}
      },
      "source": [
        "# To determine which version you're using:\n",
        "!pip show tensorflow\n",
        "\n",
        "# For the current version: \n",
        "!pip install --upgrade tensorflow\n",
        "\n",
        "# For a specific version:\n",
        "!pip install tensorflow==1.2"
      ],
      "execution_count": 0,
      "outputs": []
    }
  ]
}