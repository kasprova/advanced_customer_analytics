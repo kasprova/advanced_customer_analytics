{
  "nbformat": 4,
  "nbformat_minor": 0,
  "metadata": {
    "colab": {
      "name": "feature_selection.ipynb",
      "provenance": [],
      "collapsed_sections": [],
      "toc_visible": true,
      "machine_shape": "hm",
      "include_colab_link": true
    },
    "kernelspec": {
      "name": "python3",
      "display_name": "Python 3"
    }
  },
  "cells": [
    {
      "cell_type": "markdown",
      "metadata": {
        "id": "view-in-github",
        "colab_type": "text"
      },
      "source": [
        "<a href=\"https://colab.research.google.com/github/kasprova/advanced_customer_analytics/blob/master/notebooks/feature_selection.ipynb\" target=\"_parent\"><img src=\"https://colab.research.google.com/assets/colab-badge.svg\" alt=\"Open In Colab\"/></a>"
      ]
    },
    {
      "cell_type": "markdown",
      "metadata": {
        "id": "600_5FV7zrOi",
        "colab_type": "text"
      },
      "source": [
        "## FEATURE SELECTION (update 2019-10-20)"
      ]
    },
    {
      "cell_type": "markdown",
      "metadata": {
        "id": "XVRiSojVVVby",
        "colab_type": "text"
      },
      "source": [
        "### Mount dataset from Google Disk to Google Colab"
      ]
    },
    {
      "cell_type": "code",
      "metadata": {
        "id": "OsuopARqVgb2",
        "colab_type": "code",
        "outputId": "de29a00b-25bc-428e-9dfa-34c901f1dc26",
        "colab": {
          "base_uri": "https://localhost:8080/",
          "height": 130
        }
      },
      "source": [
        "#mount google drive to get access to the data\n",
        "from google.colab import drive\n",
        "drive.mount('/content/drive')"
      ],
      "execution_count": 1,
      "outputs": [
        {
          "output_type": "stream",
          "text": [
            "Go to this URL in a browser: https://accounts.google.com/o/oauth2/auth?client_id=947318989803-6bn6qk8qdgf4n4g3pfee6491hc0brc4i.apps.googleusercontent.com&redirect_uri=urn%3Aietf%3Awg%3Aoauth%3A2.0%3Aoob&scope=email%20https%3A%2F%2Fwww.googleapis.com%2Fauth%2Fdocs.test%20https%3A%2F%2Fwww.googleapis.com%2Fauth%2Fdrive%20https%3A%2F%2Fwww.googleapis.com%2Fauth%2Fdrive.photos.readonly%20https%3A%2F%2Fwww.googleapis.com%2Fauth%2Fpeopleapi.readonly&response_type=code\n",
            "\n",
            "Enter your authorization code:\n",
            "··········\n",
            "Mounted at /content/drive\n"
          ],
          "name": "stdout"
        }
      ]
    },
    {
      "cell_type": "code",
      "metadata": {
        "id": "BMHBc0samwEz",
        "colab_type": "code",
        "colab": {}
      },
      "source": [
        "!unzip -q \"drive/My Drive/analytics/universal_features_manual_cat_201509_201608__.zip\""
      ],
      "execution_count": 0,
      "outputs": []
    },
    {
      "cell_type": "code",
      "metadata": {
        "id": "hjUch2C1szSR",
        "colab_type": "code",
        "outputId": "0799cb95-d7d0-45b9-b8a9-9f8f8225cdbe",
        "colab": {
          "base_uri": "https://localhost:8080/",
          "height": 54
        }
      },
      "source": [
        "!ls drive/My\\ Drive/analytics/"
      ],
      "execution_count": 0,
      "outputs": [
        {
          "output_type": "stream",
          "text": [
            "cluster_labels.parquet\tDATA.zip\n",
            "customer_analytics.zip\tuniversal_features_manual_cat_191020_.zip\n"
          ],
          "name": "stdout"
        }
      ]
    },
    {
      "cell_type": "code",
      "metadata": {
        "id": "tFuLgpOfKZf7",
        "colab_type": "code",
        "colab": {}
      },
      "source": [
        "#libraries\n",
        "import pandas as pd\n",
        "pd.set_option('display.max_columns', None)\n",
        "import numpy as np\n",
        "\n",
        "import matplotlib.pyplot as plt\n",
        "%matplotlib inline \n",
        "plt.style.use('ggplot')\n",
        "plt.rcParams[\"figure.figsize\"] = (5,10)\n",
        "\n",
        "#from sklearn.preprocessing import MinMaxScaler\n",
        "from sklearn.preprocessing import StandardScaler\n",
        "from sklearn.model_selection  import train_test_split\n",
        "from sklearn.ensemble import ExtraTreesRegressor"
      ],
      "execution_count": 0,
      "outputs": []
    },
    {
      "cell_type": "code",
      "metadata": {
        "id": "DG1uTQEnmYMo",
        "colab_type": "code",
        "colab": {}
      },
      "source": [
        "universal_features = \"universal_features_manual_cat_201509_201608__.parquet\"\n",
        "data = pd.read_parquet(universal_features)\n"
      ],
      "execution_count": 0,
      "outputs": []
    },
    {
      "cell_type": "code",
      "metadata": {
        "id": "5ag5QRYe_VP3",
        "colab_type": "code",
        "colab": {
          "base_uri": "https://localhost:8080/",
          "height": 350
        },
        "outputId": "b79f0a58-5187-4f72-df89-2c8ca475cb3d"
      },
      "source": [
        "data.columns"
      ],
      "execution_count": 8,
      "outputs": [
        {
          "output_type": "execute_result",
          "data": {
            "text/plain": [
              "Index(['month_id', 'household_id', 'recency', 'frequency', 'monetary', 'churn',\n",
              "       'discount_number__store_coupon', 'discount_value__store_coupon',\n",
              "       'discount_number__manufacture_coupon',\n",
              "       'discount_value__manufacture_coupon', 'discount_number__misc_credit',\n",
              "       'discount_value__misc_credit', 'discount_number__xxx_credit',\n",
              "       'discount_value__xxx_credit', 'discount_number__total',\n",
              "       'discount_value__total', 'deposite_number__bottle',\n",
              "       'deposite_value__bottle', 'return_number__bottle',\n",
              "       'return_value__bottle', 'refund_number', 'refund_value',\n",
              "       'cat_m_alco_tabacco_paid_amount_pcnt',\n",
              "       'cat_m_baby_and_pets_paid_amount_pcnt', 'cat_m_baking_paid_amount_pcnt',\n",
              "       'cat_m_diary_paid_amount_pcnt', 'cat_m_drinks_paid_amount_pcnt',\n",
              "       'cat_m_grains_paid_amount_pcnt', 'cat_m_greens_paid_amount_pcnt',\n",
              "       'cat_m_misc_paid_amount_pcnt', 'cat_m_prepared_food_paid_amount_pcnt',\n",
              "       'cat_m_proteins_paid_amount_pcnt', 'cat_m_sause_paid_amount_pcnt',\n",
              "       'cat_m_sweets_paid_amount_pcnt', 'duration_since_start__months',\n",
              "       'cards_number'],\n",
              "      dtype='object')"
            ]
          },
          "metadata": {
            "tags": []
          },
          "execution_count": 8
        }
      ]
    },
    {
      "cell_type": "markdown",
      "metadata": {
        "id": "kfXu21HZYAkF",
        "colab_type": "text"
      },
      "source": [
        "**Feature Selection Technique: Feature Importance**\n",
        "\n",
        "Target variable - 'monetary value'"
      ]
    },
    {
      "cell_type": "code",
      "metadata": {
        "id": "15chMbYluUxx",
        "colab_type": "code",
        "colab": {}
      },
      "source": [
        "#data preprocessing\n",
        "ignore_list = ['month_id', 'household_id']\n",
        "features = [c for c in data.columns if c not in ignore_list]\n",
        "\n",
        "df = data.copy()\n",
        "\n",
        "# transform from negative to positive values\n",
        "df[['discount_value__manufacture_coupon',\n",
        " 'discount_value__store_coupon',\n",
        " 'discount_value__total',\n",
        " 'refund_value',\n",
        " 'return_value__bottle']] = - df[[\n",
        " 'discount_value__manufacture_coupon',\n",
        " 'discount_value__store_coupon',\n",
        " 'discount_value__total',\n",
        " 'refund_value',\n",
        " 'return_value__bottle']]\n",
        "\n",
        "#applying log(x+1) transformation for features containing 'money' value\n",
        "df[['monetary']] = np.log1p(df[['monetary']])\n",
        "\n",
        "#applying MinMaxScaler scaler\n",
        "#scaler = MinMaxScaler()\n",
        "scaler = StandardScaler()\n",
        "scaled_df = scaler.fit_transform(df[features])\n",
        "scaled_df = pd.DataFrame(scaled_df)\n",
        "scaled_df.columns = features"
      ],
      "execution_count": 0,
      "outputs": []
    },
    {
      "cell_type": "code",
      "metadata": {
        "id": "R7l6zfx-jGFi",
        "colab_type": "code",
        "colab": {}
      },
      "source": [
        "#define target\n",
        "X = pd.concat([scaled_df.iloc[:,0:2], scaled_df.iloc[:, 3:]], axis=1).values # except monetary\n",
        "y = scaled_df.iloc[:,2].values #monetary\n",
        "#X_train, X_test, y_train, y_test = train_test_split(X, y, test_size = 0.2, random_state = 0)"
      ],
      "execution_count": 0,
      "outputs": []
    },
    {
      "cell_type": "code",
      "metadata": {
        "id": "W3LwnoXjkUhc",
        "colab_type": "code",
        "outputId": "ab4bb965-768c-43b9-a58e-944301a1ecf1",
        "colab": {
          "base_uri": "https://localhost:8080/",
          "height": 184
        }
      },
      "source": [
        "model = ExtraTreesRegressor()\n",
        "model.fit(X,y)"
      ],
      "execution_count": 11,
      "outputs": [
        {
          "output_type": "stream",
          "text": [
            "/usr/local/lib/python3.6/dist-packages/sklearn/ensemble/forest.py:245: FutureWarning: The default value of n_estimators will change from 10 in version 0.20 to 100 in 0.22.\n",
            "  \"10 in version 0.20 to 100 in 0.22.\", FutureWarning)\n"
          ],
          "name": "stderr"
        },
        {
          "output_type": "execute_result",
          "data": {
            "text/plain": [
              "ExtraTreesRegressor(bootstrap=False, criterion='mse', max_depth=None,\n",
              "                    max_features='auto', max_leaf_nodes=None,\n",
              "                    min_impurity_decrease=0.0, min_impurity_split=None,\n",
              "                    min_samples_leaf=1, min_samples_split=2,\n",
              "                    min_weight_fraction_leaf=0.0, n_estimators=10, n_jobs=None,\n",
              "                    oob_score=False, random_state=None, verbose=0,\n",
              "                    warm_start=False)"
            ]
          },
          "metadata": {
            "tags": []
          },
          "execution_count": 11
        }
      ]
    },
    {
      "cell_type": "code",
      "metadata": {
        "id": "H0bNY0SS3Obf",
        "colab_type": "code",
        "outputId": "95c8ccd5-d6c2-4090-bae4-4bceb5466085",
        "colab": {
          "base_uri": "https://localhost:8080/",
          "height": 184
        }
      },
      "source": [
        "print(model.feature_importances_)"
      ],
      "execution_count": 12,
      "outputs": [
        {
          "output_type": "stream",
          "text": [
            "[8.06924232e-02 8.11722425e-02 4.46780487e-03 2.72428416e-04\n",
            " 2.88248690e-04 1.01026447e-03 1.05125543e-03 7.06138667e-04\n",
            " 4.34284268e-04 2.87049313e-02 1.68049292e-02 1.67045530e-01\n",
            " 2.54850178e-02 1.65858238e-02 8.52385515e-03 6.31598242e-05\n",
            " 5.17678111e-05 2.71522294e-04 2.66236345e-04 5.32986525e-03\n",
            " 6.16280728e-03 1.64070712e-02 7.03954501e-02 4.58418825e-02\n",
            " 2.19369092e-02 5.38277987e-02 5.39365294e-02 1.03909197e-01\n",
            " 7.60849912e-02 6.66424280e-02 1.40238693e-02 2.39116822e-02\n",
            " 7.69165425e-03]\n"
          ],
          "name": "stdout"
        }
      ]
    },
    {
      "cell_type": "code",
      "metadata": {
        "id": "GoOZOHAUDTwo",
        "colab_type": "code",
        "outputId": "c497c61a-8fb4-497a-8d25-c3017e3ff756",
        "colab": {
          "base_uri": "https://localhost:8080/",
          "height": 592
        }
      },
      "source": [
        "#plot graph of feature importances for better visualization\n",
        "#feat_importances = pd.Series(model.feature_importances_, index=X.columns)\n",
        "feat_importances = pd.Series(model.feature_importances_)\n",
        "feat_importances.nlargest(25).plot(kind='barh')\n",
        "plt.show()"
      ],
      "execution_count": 13,
      "outputs": [
        {
          "output_type": "display_data",
          "data": {
            "image/png": "[encoded data removed]",
            "text/plain": [
              "<Figure size 360x720 with 1 Axes>"
            ]
          },
          "metadata": {
            "tags": []
          }
        }
      ]
    },
    {
      "cell_type": "code",
      "metadata": {
        "id": "kIbKo_0L2_WZ",
        "colab_type": "code",
        "outputId": "093b9721-f989-49d9-c732-586bfe3f5363",
        "colab": {
          "base_uri": "https://localhost:8080/",
          "height": 73
        }
      },
      "source": [
        "feat_importances.nlargest(25).index"
      ],
      "execution_count": 17,
      "outputs": [
        {
          "output_type": "execute_result",
          "data": {
            "text/plain": [
              "Int64Index([11, 27,  1,  0, 28, 22, 29, 26, 25, 23,  9, 12, 31, 24, 10, 13, 21,\n",
              "            30, 14, 32, 20, 19,  2,  6,  5],\n",
              "           dtype='int64')"
            ]
          },
          "metadata": {
            "tags": []
          },
          "execution_count": 17
        }
      ]
    },
    {
      "cell_type": "code",
      "metadata": {
        "id": "CR40n6SaCKMC",
        "colab_type": "code",
        "colab": {}
      },
      "source": [
        "index_list = feat_importances.nlargest(25).index\n",
        "names_temp = [c for c in data.columns if c not in ['month_id', 'household_id', 'monetary']]\n",
        "name_list = []\n",
        "for i in index_list:\n",
        "  name_list.append(names_temp[i])"
      ],
      "execution_count": 0,
      "outputs": []
    },
    {
      "cell_type": "code",
      "metadata": {
        "id": "qb-aEPYO_mh5",
        "colab_type": "code",
        "colab": {
          "base_uri": "https://localhost:8080/",
          "height": 480
        },
        "outputId": "936881c4-c13b-4066-d6a6-84a41ca317e7"
      },
      "source": [
        "name_list"
      ],
      "execution_count": 19,
      "outputs": [
        {
          "output_type": "execute_result",
          "data": {
            "text/plain": [
              "['discount_number__total',\n",
              " 'cat_m_prepared_food_paid_amount_pcnt',\n",
              " 'frequency',\n",
              " 'recency',\n",
              " 'cat_m_proteins_paid_amount_pcnt',\n",
              " 'cat_m_diary_paid_amount_pcnt',\n",
              " 'cat_m_sause_paid_amount_pcnt',\n",
              " 'cat_m_misc_paid_amount_pcnt',\n",
              " 'cat_m_greens_paid_amount_pcnt',\n",
              " 'cat_m_drinks_paid_amount_pcnt',\n",
              " 'discount_number__xxx_credit',\n",
              " 'discount_value__total',\n",
              " 'duration_since_start__months',\n",
              " 'cat_m_grains_paid_amount_pcnt',\n",
              " 'discount_value__xxx_credit',\n",
              " 'deposite_number__bottle',\n",
              " 'cat_m_baking_paid_amount_pcnt',\n",
              " 'cat_m_sweets_paid_amount_pcnt',\n",
              " 'deposite_value__bottle',\n",
              " 'cards_number',\n",
              " 'cat_m_baby_and_pets_paid_amount_pcnt',\n",
              " 'cat_m_alco_tabacco_paid_amount_pcnt',\n",
              " 'churn',\n",
              " 'discount_value__manufacture_coupon',\n",
              " 'discount_number__manufacture_coupon']"
            ]
          },
          "metadata": {
            "tags": []
          },
          "execution_count": 19
        }
      ]
    },
    {
      "cell_type": "code",
      "metadata": {
        "id": "vNCLHQ97BHCp",
        "colab_type": "code",
        "colab": {}
      },
      "source": [
        ""
      ],
      "execution_count": 0,
      "outputs": []
    },
    {
      "cell_type": "code",
      "metadata": {
        "id": "PH81G9mPFep_",
        "colab_type": "code",
        "colab": {}
      },
      "source": [
        ""
      ],
      "execution_count": 0,
      "outputs": []
    }
  ]
}