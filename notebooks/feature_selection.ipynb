{
  "nbformat": 4,
  "nbformat_minor": 0,
  "metadata": {
    "colab": {
      "name": "feature_selection.ipynb",
      "provenance": [],
      "collapsed_sections": [],
      "machine_shape": "hm",
      "include_colab_link": true
    },
    "kernelspec": {
      "name": "python3",
      "display_name": "Python 3"
    }
  },
  "cells": [
    {
      "cell_type": "markdown",
      "metadata": {
        "id": "view-in-github",
        "colab_type": "text"
      },
      "source": [
        "<a href=\"https://colab.research.google.com/github/kasprova/advanced_customer_analytics/blob/master/notebooks/feature_selection.ipynb\" target=\"_parent\"><img src=\"https://colab.research.google.com/assets/colab-badge.svg\" alt=\"Open In Colab\"/></a>"
      ]
    },
    {
      "cell_type": "markdown",
      "metadata": {
        "id": "600_5FV7zrOi",
        "colab_type": "text"
      },
      "source": [
        "## FEATURE SELECTION (update 2019-10-15)"
      ]
    },
    {
      "cell_type": "markdown",
      "metadata": {
        "id": "XVRiSojVVVby",
        "colab_type": "text"
      },
      "source": [
        "### Mount dataset from Google Disk to Google Colab"
      ]
    },
    {
      "cell_type": "code",
      "metadata": {
        "id": "OsuopARqVgb2",
        "colab_type": "code",
        "outputId": "c2e4fc53-c3c3-4447-c937-cfcadffa36d9",
        "colab": {
          "base_uri": "https://localhost:8080/",
          "height": 129
        }
      },
      "source": [
        "#mount google drive to get access to the data\n",
        "from google.colab import drive\n",
        "drive.mount('/content/drive')"
      ],
      "execution_count": 1,
      "outputs": [
        {
          "output_type": "stream",
          "text": [
            "Go to this URL in a browser: https://accounts.google.com/o/oauth2/auth?client_id=947318989803-6bn6qk8qdgf4n4g3pfee6491hc0brc4i.apps.googleusercontent.com&redirect_uri=urn%3Aietf%3Awg%3Aoauth%3A2.0%3Aoob&scope=email%20https%3A%2F%2Fwww.googleapis.com%2Fauth%2Fdocs.test%20https%3A%2F%2Fwww.googleapis.com%2Fauth%2Fdrive%20https%3A%2F%2Fwww.googleapis.com%2Fauth%2Fdrive.photos.readonly%20https%3A%2F%2Fwww.googleapis.com%2Fauth%2Fpeopleapi.readonly&response_type=code\n",
            "\n",
            "Enter your authorization code:\n",
            "··········\n",
            "Mounted at /content/drive\n"
          ],
          "name": "stdout"
        }
      ]
    },
    {
      "cell_type": "code",
      "metadata": {
        "id": "BMHBc0samwEz",
        "colab_type": "code",
        "colab": {}
      },
      "source": [
        "!unzip -q \"drive/My Drive/analytics/universal_features_manual_cat.parquet.zip\""
      ],
      "execution_count": 0,
      "outputs": []
    },
    {
      "cell_type": "code",
      "metadata": {
        "id": "hjUch2C1szSR",
        "colab_type": "code",
        "colab": {
          "base_uri": "https://localhost:8080/",
          "height": 35
        },
        "outputId": "569d3f2b-0fe2-4924-83c7-5ba76f5205b8"
      },
      "source": [
        "#!ls drive/My\\ Drive/analytics/"
      ],
      "execution_count": 7,
      "outputs": [
        {
          "output_type": "stream",
          "text": [
            "customer_analytics.zip\tDATA.zip  universal_features_manual_cat.parquet.zip\n"
          ],
          "name": "stdout"
        }
      ]
    },
    {
      "cell_type": "code",
      "metadata": {
        "id": "tFuLgpOfKZf7",
        "colab_type": "code",
        "colab": {}
      },
      "source": [
        "#libraries\n",
        "import pandas as pd\n",
        "pd.set_option('display.max_columns', None)\n",
        "import numpy as np\n",
        "\n",
        "import matplotlib.pyplot as plt\n",
        "%matplotlib inline \n",
        "plt.style.use('ggplot')\n",
        "plt.rcParams[\"figure.figsize\"] = (5,10)\n",
        "\n",
        "#from sklearn.preprocessing import MinMaxScaler\n",
        "from sklearn.preprocessing import StandardScaler\n",
        "from sklearn.model_selection  import train_test_split\n",
        "from sklearn.ensemble import ExtraTreesRegressor"
      ],
      "execution_count": 0,
      "outputs": []
    },
    {
      "cell_type": "code",
      "metadata": {
        "id": "DG1uTQEnmYMo",
        "colab_type": "code",
        "colab": {}
      },
      "source": [
        "universal_features = \"universal_features_manual_cat.parquet\"\n",
        "data = pd.read_parquet(universal_features)\n"
      ],
      "execution_count": 0,
      "outputs": []
    },
    {
      "cell_type": "markdown",
      "metadata": {
        "id": "kfXu21HZYAkF",
        "colab_type": "text"
      },
      "source": [
        "**Feature Selection Techniques:**\n",
        "\n",
        "  1. Univariate Selection\n",
        "\n",
        "  **2. Feature Importance**\n",
        "\n",
        "  3. Correlation Matrix with Heatmap\n",
        "\n",
        "Target variable - 'monetary value'"
      ]
    },
    {
      "cell_type": "code",
      "metadata": {
        "id": "15chMbYluUxx",
        "colab_type": "code",
        "colab": {}
      },
      "source": [
        "#data preprocessing\n",
        "ignore_list = ['month_id', 'household_id']\n",
        "features = [c for c in data.columns if c not in ignore_list]\n",
        "\n",
        "df = data.copy()\n",
        "\n",
        "# transform from negative to positive values\n",
        "df[['discount_value__manufacture_coupon',\n",
        " 'discount_value__misc_credit',\n",
        " 'discount_value__prologic_credit',\n",
        " 'discount_value__store_coupon',\n",
        " 'discount_value__total',\n",
        " 'refund_value',\n",
        " 'return_value__bottle']] = - df[[\n",
        " 'discount_value__manufacture_coupon',\n",
        " 'discount_value__misc_credit',\n",
        " 'discount_value__prologic_credit',\n",
        " 'discount_value__store_coupon',\n",
        " 'discount_value__total',\n",
        " 'refund_value',\n",
        " 'return_value__bottle']]\n",
        "\n",
        "#applying log(x+1) transformation for features containing 'money' value\n",
        "df[['monetary']] = np.log1p(df[['monetary']])\n",
        "\n",
        "#applying MinMaxScaler scaler\n",
        "#scaler = MinMaxScaler()\n",
        "scaler = StandardScaler()\n",
        "scaled_df = scaler.fit_transform(df[features])\n",
        "scaled_df = pd.DataFrame(scaled_df)\n",
        "scaled_df.columns = features"
      ],
      "execution_count": 0,
      "outputs": []
    },
    {
      "cell_type": "code",
      "metadata": {
        "id": "R7l6zfx-jGFi",
        "colab_type": "code",
        "colab": {}
      },
      "source": [
        "#split on train and test dataset\n",
        "X = pd.concat([scaled_df.iloc[:,0:2], scaled_df.iloc[:, 3:]], axis=1).values\n",
        "y = scaled_df.iloc[:,2].values\n",
        "X_train, X_test, y_train, y_test = train_test_split(X, y, test_size = 0.2, random_state = 0)"
      ],
      "execution_count": 0,
      "outputs": []
    },
    {
      "cell_type": "code",
      "metadata": {
        "id": "W3LwnoXjkUhc",
        "colab_type": "code",
        "colab": {
          "base_uri": "https://localhost:8080/",
          "height": 202
        },
        "outputId": "6b60c533-c52c-45ae-90eb-34759d2a9e6d"
      },
      "source": [
        "model = ExtraTreesRegressor()\n",
        "model.fit(X,y)"
      ],
      "execution_count": 20,
      "outputs": [
        {
          "output_type": "stream",
          "text": [
            "/usr/local/lib/python3.6/dist-packages/sklearn/ensemble/forest.py:245: FutureWarning: The default value of n_estimators will change from 10 in version 0.20 to 100 in 0.22.\n",
            "  \"10 in version 0.20 to 100 in 0.22.\", FutureWarning)\n"
          ],
          "name": "stderr"
        },
        {
          "output_type": "execute_result",
          "data": {
            "text/plain": [
              "ExtraTreesRegressor(bootstrap=False, criterion='mse', max_depth=None,\n",
              "                    max_features='auto', max_leaf_nodes=None,\n",
              "                    min_impurity_decrease=0.0, min_impurity_split=None,\n",
              "                    min_samples_leaf=1, min_samples_split=2,\n",
              "                    min_weight_fraction_leaf=0.0, n_estimators=10, n_jobs=None,\n",
              "                    oob_score=False, random_state=None, verbose=0,\n",
              "                    warm_start=False)"
            ]
          },
          "metadata": {
            "tags": []
          },
          "execution_count": 20
        }
      ]
    },
    {
      "cell_type": "code",
      "metadata": {
        "id": "H0bNY0SS3Obf",
        "colab_type": "code",
        "colab": {
          "base_uri": "https://localhost:8080/",
          "height": 182
        },
        "outputId": "59d40839-1867-4d15-f3b3-6aa62ee65d8f"
      },
      "source": [
        "print(model.feature_importances_)"
      ],
      "execution_count": 24,
      "outputs": [
        {
          "output_type": "stream",
          "text": [
            "[2.62016822e-02 1.00137323e-01 2.68177709e-02 2.81357557e-04\n",
            " 2.85404319e-04 1.03787957e-03 1.07436085e-03 7.21117543e-04\n",
            " 4.06899526e-04 1.19407946e-01 9.27509608e-02 1.50437122e-01\n",
            " 1.85500990e-02 2.52321211e-02 1.16493681e-02 7.05944284e-05\n",
            " 5.66003919e-05 2.94460832e-04 2.73854684e-04 6.12645047e-03\n",
            " 6.10930568e-03 1.91849033e-02 5.72697695e-02 4.11718194e-02\n",
            " 5.72778903e-02 4.64222514e-02 4.03252294e-02 4.04053932e-02\n",
            " 4.20501700e-02 2.60544856e-02 1.73543481e-02 2.42045980e-02\n",
            " 3.56463211e-04]\n"
          ],
          "name": "stdout"
        }
      ]
    },
    {
      "cell_type": "code",
      "metadata": {
        "id": "8Hly8E41KVsE",
        "colab_type": "code",
        "colab": {
          "base_uri": "https://localhost:8080/",
          "height": 595
        },
        "outputId": "90f81860-1921-444c-fbee-0e746d57ecb4"
      },
      "source": [
        "#plot graph of feature importances for better visualization\n",
        "#feat_importances = pd.Series(model.feature_importances_, index=X.columns)\n",
        "feat_importances = pd.Series(model.feature_importances_)\n",
        "feat_importances.nlargest(33).plot(kind='barh')\n",
        "plt.show()"
      ],
      "execution_count": 40,
      "outputs": [
        {
          "output_type": "display_data",
          "data": {
            "image/png": "[encoded data removed]",
            "text/plain": [
              "<Figure size 360x720 with 1 Axes>"
            ]
          },
          "metadata": {
            "tags": []
          }
        }
      ]
    },
    {
      "cell_type": "code",
      "metadata": {
        "id": "kIbKo_0L2_WZ",
        "colab_type": "code",
        "colab": {
          "base_uri": "https://localhost:8080/",
          "height": 72
        },
        "outputId": "f6b1bae1-60cc-48d7-cbb1-acc5b9d2be1a"
      },
      "source": [
        "feat_importances.nlargest(22).index"
      ],
      "execution_count": 44,
      "outputs": [
        {
          "output_type": "execute_result",
          "data": {
            "text/plain": [
              "Int64Index([11,  9,  1, 10, 24, 22, 25, 28, 23, 27, 26,  2,  0, 29, 13, 31, 21,\n",
              "            12, 30, 14, 19, 20],\n",
              "           dtype='int64')"
            ]
          },
          "metadata": {
            "tags": []
          },
          "execution_count": 44
        }
      ]
    },
    {
      "cell_type": "code",
      "metadata": {
        "id": "CR40n6SaCKMC",
        "colab_type": "code",
        "colab": {}
      },
      "source": [
        "index_list = feat_importances.nlargest(22).index\n",
        "names_temp = [c for c in data.columns if c not in ['month_id', 'household_id', 'monetary']]\n",
        "name_list = []\n",
        "for i in index_list:\n",
        "  name_list.append(names_temp[i])"
      ],
      "execution_count": 0,
      "outputs": []
    },
    {
      "cell_type": "code",
      "metadata": {
        "id": "cihPevRrWIJM",
        "colab_type": "code",
        "colab": {
          "base_uri": "https://localhost:8080/",
          "height": 421
        },
        "outputId": "328c91c1-7e34-4fa7-bc77-c17dde9f126b"
      },
      "source": [
        "name_list"
      ],
      "execution_count": 27,
      "outputs": [
        {
          "output_type": "execute_result",
          "data": {
            "text/plain": [
              "['discount_number__total',\n",
              " 'discount_number__prologic_credit',\n",
              " 'frequency',\n",
              " 'discount_value__prologic_credit',\n",
              " 'cat_m_grains_paid_amount_pcnt',\n",
              " 'cat_m_diary_paid_amount_pcnt',\n",
              " 'cat_m_greens_paid_amount_pcnt',\n",
              " 'cat_m_proteins_paid_amount_pcnt',\n",
              " 'cat_m_drinks_paid_amount_pcnt',\n",
              " 'cat_m_prepared_food_paid_amount_pcnt',\n",
              " 'cat_m_misc_paid_amount_pcnt',\n",
              " 'churn',\n",
              " 'recency',\n",
              " 'cat_m_sause_paid_amount_pcnt',\n",
              " 'deposite_number__bottle',\n",
              " 'duration_since_start__months',\n",
              " 'cat_m_baking_paid_amount_pcnt',\n",
              " 'discount_value__total',\n",
              " 'cat_m_sweets_paid_amount_pcnt',\n",
              " 'deposite_value__bottle',\n",
              " 'cat_m_alco_tabacco_paid_amount_pcnt',\n",
              " 'cat_m_baby_and_pets_paid_amount_pcnt']"
            ]
          },
          "metadata": {
            "tags": []
          },
          "execution_count": 27
        }
      ]
    },
    {
      "cell_type": "code",
      "metadata": {
        "id": "KtV5my-HQczI",
        "colab_type": "code",
        "colab": {}
      },
      "source": [
        ""
      ],
      "execution_count": 0,
      "outputs": []
    }
  ]
}