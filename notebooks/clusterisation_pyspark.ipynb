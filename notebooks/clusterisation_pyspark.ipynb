{
  "nbformat": 4,
  "nbformat_minor": 0,
  "metadata": {
    "colab": {
      "name": "clusterisation_pyspark.ipynb",
      "provenance": [],
      "collapsed_sections": [],
      "toc_visible": true,
      "include_colab_link": true
    },
    "kernelspec": {
      "name": "python3",
      "display_name": "Python 3"
    },
    "accelerator": "GPU"
  },
  "cells": [
    {
      "cell_type": "markdown",
      "metadata": {
        "id": "view-in-github",
        "colab_type": "text"
      },
      "source": [
        "<a href=\"https://colab.research.google.com/github/kasprova/advanced_customer_analytics/blob/master/notebooks/clusterisation_pyspark.ipynb\" target=\"_parent\"><img src=\"https://colab.research.google.com/assets/colab-badge.svg\" alt=\"Open In Colab\"/></a>"
      ]
    },
    {
      "cell_type": "markdown",
      "metadata": {
        "id": "ipAZ2cnvpjLK",
        "colab_type": "text"
      },
      "source": [
        "### CLUSTERIZATION: pyspark - ML"
      ]
    },
    {
      "cell_type": "code",
      "metadata": {
        "id": "ZJK6XrbiBJla",
        "colab_type": "code",
        "outputId": "b93d8bf6-465c-4e28-b71b-4a164db57b30",
        "colab": {
          "base_uri": "https://localhost:8080/",
          "height": 332
        }
      },
      "source": [
        "!nvidia-smi"
      ],
      "execution_count": 1,
      "outputs": [
        {
          "output_type": "stream",
          "text": [
            "Sat Oct 26 03:32:52 2019       \n",
            "+-----------------------------------------------------------------------------+\n",
            "| NVIDIA-SMI 430.50       Driver Version: 418.67       CUDA Version: 10.1     |\n",
            "|-------------------------------+----------------------+----------------------+\n",
            "| GPU  Name        Persistence-M| Bus-Id        Disp.A | Volatile Uncorr. ECC |\n",
            "| Fan  Temp  Perf  Pwr:Usage/Cap|         Memory-Usage | GPU-Util  Compute M. |\n",
            "|===============================+======================+======================|\n",
            "|   0  Tesla K80           Off  | 00000000:00:04.0 Off |                    0 |\n",
            "| N/A   72C    P8    35W / 149W |      0MiB / 11441MiB |      0%      Default |\n",
            "+-------------------------------+----------------------+----------------------+\n",
            "                                                                               \n",
            "+-----------------------------------------------------------------------------+\n",
            "| Processes:                                                       GPU Memory |\n",
            "|  GPU       PID   Type   Process name                             Usage      |\n",
            "|=============================================================================|\n",
            "|  No running processes found                                                 |\n",
            "+-----------------------------------------------------------------------------+\n"
          ],
          "name": "stdout"
        }
      ]
    },
    {
      "cell_type": "code",
      "metadata": {
        "id": "UYq7NRUkmOnG",
        "colab_type": "code",
        "colab": {}
      },
      "source": [
        "!apt-get install openjdk-8-jdk-headless -qq > /dev/null\n",
        "!wget -q https://www-us.apache.org/dist/spark/spark-2.4.4/spark-2.4.4-bin-hadoop2.7.tgz\n",
        "!tar xf spark-2.4.4-bin-hadoop2.7.tgz\n",
        "!pip install -q findspark"
      ],
      "execution_count": 0,
      "outputs": []
    },
    {
      "cell_type": "code",
      "metadata": {
        "id": "RTNmV7WgmZwp",
        "colab_type": "code",
        "colab": {}
      },
      "source": [
        "import os\n",
        "os.environ[\"JAVA_HOME\"] = \"/usr/lib/jvm/java-8-openjdk-amd64\"\n",
        "os.environ[\"SPARK_HOME\"] = \"/content/spark-2.4.4-bin-hadoop2.7\""
      ],
      "execution_count": 0,
      "outputs": []
    },
    {
      "cell_type": "code",
      "metadata": {
        "id": "nGQI7DlMme79",
        "colab_type": "code",
        "colab": {}
      },
      "source": [
        "import findspark\n",
        "findspark.init()\n",
        "\n",
        "import pyspark\n",
        "from pyspark import SparkConf\n",
        "conf = SparkConf().setAppName(\"App\")\n",
        "conf = (conf.set('spark.driver.memory', '11G'))\n",
        "\n",
        "sc = pyspark.SparkContext(conf=conf)\n",
        "from pyspark.sql import SQLContext\n",
        "sql = SQLContext(sc)\n",
        "\n",
        "from pyspark.sql import SparkSession\n",
        "spark = SparkSession.builder.master(\"local[*]\").getOrCreate()"
      ],
      "execution_count": 0,
      "outputs": []
    },
    {
      "cell_type": "code",
      "metadata": {
        "id": "CVEjsWu3FIY-",
        "colab_type": "code",
        "colab": {}
      },
      "source": [
        "from functools import reduce\n",
        "import pandas as pd\n",
        "import numpy as np\n",
        "\n",
        "\n",
        "import matplotlib.pyplot as plt\n",
        "import matplotlib.cm as cm\n",
        "%matplotlib inline \n",
        "plt.style.use('ggplot')\n",
        "#plt.style.use('default')\n",
        "plt.rcParams[\"figure.figsize\"] = (10,5)"
      ],
      "execution_count": 0,
      "outputs": []
    },
    {
      "cell_type": "code",
      "metadata": {
        "id": "Lo8AjpVypyDV",
        "colab_type": "code",
        "colab": {}
      },
      "source": [
        "from pyspark.ml.clustering import KMeans\n",
        "from pyspark.ml.feature import VectorAssembler\n",
        "from pyspark.ml.evaluation import ClusteringEvaluator"
      ],
      "execution_count": 0,
      "outputs": []
    },
    {
      "cell_type": "markdown",
      "metadata": {
        "id": "MYhUOSqOOz3E",
        "colab_type": "text"
      },
      "source": [
        "### Load Data"
      ]
    },
    {
      "cell_type": "code",
      "metadata": {
        "id": "v_OC0fwdOvoK",
        "colab_type": "code",
        "outputId": "187f3707-2331-4ff3-83ea-4b850cf40e6b",
        "colab": {
          "base_uri": "https://localhost:8080/",
          "height": 130
        }
      },
      "source": [
        "#mount google drive to get access to the data\n",
        "from google.colab import drive\n",
        "drive.mount('/content/drive')"
      ],
      "execution_count": 7,
      "outputs": [
        {
          "output_type": "stream",
          "text": [
            "Go to this URL in a browser: https://accounts.google.com/o/oauth2/auth?client_id=947318989803-6bn6qk8qdgf4n4g3pfee6491hc0brc4i.apps.googleusercontent.com&redirect_uri=urn%3Aietf%3Awg%3Aoauth%3A2.0%3Aoob&scope=email%20https%3A%2F%2Fwww.googleapis.com%2Fauth%2Fdocs.test%20https%3A%2F%2Fwww.googleapis.com%2Fauth%2Fdrive%20https%3A%2F%2Fwww.googleapis.com%2Fauth%2Fdrive.photos.readonly%20https%3A%2F%2Fwww.googleapis.com%2Fauth%2Fpeopleapi.readonly&response_type=code\n",
            "\n",
            "Enter your authorization code:\n",
            "··········\n",
            "Mounted at /content/drive\n"
          ],
          "name": "stdout"
        }
      ]
    },
    {
      "cell_type": "code",
      "metadata": {
        "id": "ljJivfW0X4K_",
        "colab_type": "code",
        "colab": {}
      },
      "source": [
        "#!unzip -q \"drive/My Drive/analytics/universal_features_manual_cat_191020_.zip\"\n",
        "#universal_features = \"content/universal_features_manual_cat_191020_.parquet\""
      ],
      "execution_count": 0,
      "outputs": []
    },
    {
      "cell_type": "code",
      "metadata": {
        "id": "oz1_ikGoluqy",
        "colab_type": "code",
        "colab": {}
      },
      "source": [
        "!unzip -q \"drive/My Drive/analytics/scaled_df_kmeans_201509_201608.zip\""
      ],
      "execution_count": 0,
      "outputs": []
    },
    {
      "cell_type": "code",
      "metadata": {
        "id": "dVVPWa2xJNo6",
        "colab_type": "code",
        "colab": {
          "base_uri": "https://localhost:8080/",
          "height": 36
        },
        "outputId": "240e0348-0d05-427b-c09e-e14e0a3de139"
      },
      "source": [
        "%ls content/scaled_df_kmeans.parquet"
      ],
      "execution_count": 19,
      "outputs": [
        {
          "output_type": "stream",
          "text": [
            "scaled_df_kmeans.parquet\n"
          ],
          "name": "stdout"
        }
      ]
    },
    {
      "cell_type": "code",
      "metadata": {
        "id": "6LQxluRJkjky",
        "colab_type": "code",
        "colab": {}
      },
      "source": [
        "scaled_data_kmeans = \"content/scaled_df_kmeans.parquet\"\n",
        "df = spark.read.parquet(scaled_data_kmeans)"
      ],
      "execution_count": 0,
      "outputs": []
    },
    {
      "cell_type": "code",
      "metadata": {
        "id": "f6nEN92Onohw",
        "colab_type": "code",
        "outputId": "59d594fd-81de-4ee3-895d-d645c3cc9629",
        "colab": {
          "base_uri": "https://localhost:8080/",
          "height": 498
        }
      },
      "source": [
        "df.columns"
      ],
      "execution_count": 21,
      "outputs": [
        {
          "output_type": "execute_result",
          "data": {
            "text/plain": [
              "['monetary',\n",
              " 'discount_number__total',\n",
              " 'cat_m_prepared_food_paid_amount_pcnt',\n",
              " 'frequency',\n",
              " 'recency',\n",
              " 'cat_m_proteins_paid_amount_pcnt',\n",
              " 'cat_m_diary_paid_amount_pcnt',\n",
              " 'cat_m_sause_paid_amount_pcnt',\n",
              " 'cat_m_misc_paid_amount_pcnt',\n",
              " 'cat_m_greens_paid_amount_pcnt',\n",
              " 'cat_m_drinks_paid_amount_pcnt',\n",
              " 'discount_number__xxx_credit',\n",
              " 'discount_value__total',\n",
              " 'duration_since_start__months',\n",
              " 'cat_m_grains_paid_amount_pcnt',\n",
              " 'discount_value__xxx_credit',\n",
              " 'deposite_number__bottle',\n",
              " 'cat_m_baking_paid_amount_pcnt',\n",
              " 'cat_m_sweets_paid_amount_pcnt',\n",
              " 'deposite_value__bottle',\n",
              " 'cards_number',\n",
              " 'cat_m_baby_and_pets_paid_amount_pcnt',\n",
              " 'cat_m_alco_tabacco_paid_amount_pcnt',\n",
              " 'churn',\n",
              " 'discount_value__manufacture_coupon',\n",
              " 'discount_number__manufacture_coupon']"
            ]
          },
          "metadata": {
            "tags": []
          },
          "execution_count": 21
        }
      ]
    },
    {
      "cell_type": "code",
      "metadata": {
        "id": "S9Y0kDAwIsKx",
        "colab_type": "code",
        "colab": {}
      },
      "source": [
        "# Create a vector representation for features\n",
        "assembler = VectorAssembler(inputCols = df.columns,\n",
        "                            outputCol = \"features\")\n",
        "train_df = assembler.transform(df)"
      ],
      "execution_count": 0,
      "outputs": []
    },
    {
      "cell_type": "code",
      "metadata": {
        "id": "gjL_ANOKfiuJ",
        "colab_type": "code",
        "outputId": "980675e4-80f9-4726-8a9a-962f77d4dccc",
        "colab": {
          "base_uri": "https://localhost:8080/",
          "height": 518
        }
      },
      "source": [
        "#check\n",
        "kmeans = KMeans(k=2, seed=1) \n",
        "model = kmeans.fit(train_df.select('features'))\n",
        "\n",
        "transformed = model.transform(train_df)\n",
        "transformed.show()"
      ],
      "execution_count": 24,
      "outputs": [
        {
          "output_type": "stream",
          "text": [
            "+--------------------+----------------------+------------------------------------+--------------------+--------------------+-------------------------------+----------------------------+----------------------------+---------------------------+-----------------------------+-----------------------------+---------------------------+---------------------+----------------------------+-----------------------------+--------------------------+-----------------------+-----------------------------+-----------------------------+----------------------+-------------------+------------------------------------+-----------------------------------+--------------------+----------------------------------+-----------------------------------+--------------------+----------+\n",
            "|            monetary|discount_number__total|cat_m_prepared_food_paid_amount_pcnt|           frequency|             recency|cat_m_proteins_paid_amount_pcnt|cat_m_diary_paid_amount_pcnt|cat_m_sause_paid_amount_pcnt|cat_m_misc_paid_amount_pcnt|cat_m_greens_paid_amount_pcnt|cat_m_drinks_paid_amount_pcnt|discount_number__xxx_credit|discount_value__total|duration_since_start__months|cat_m_grains_paid_amount_pcnt|discount_value__xxx_credit|deposite_number__bottle|cat_m_baking_paid_amount_pcnt|cat_m_sweets_paid_amount_pcnt|deposite_value__bottle|       cards_number|cat_m_baby_and_pets_paid_amount_pcnt|cat_m_alco_tabacco_paid_amount_pcnt|               churn|discount_value__manufacture_coupon|discount_number__manufacture_coupon|            features|prediction|\n",
            "+--------------------+----------------------+------------------------------------+--------------------+--------------------+-------------------------------+----------------------------+----------------------------+---------------------------+-----------------------------+-----------------------------+---------------------------+---------------------+----------------------------+-----------------------------+--------------------------+-----------------------+-----------------------------+-----------------------------+----------------------+-------------------+------------------------------------+-----------------------------------+--------------------+----------------------------------+-----------------------------------+--------------------+----------+\n",
            "|-0.22366651772864882|  -0.18274442235276142|                -0.24886369442871983|-0.22456318610372794|-0.21736305385098056|             0.3508026145303496|         -0.8320921506078616|        0.057238298368203426|        -0.5067806688486699|          -0.6706028843427574|          -0.6911653524727575|       -0.17072625675647607|   -0.217027571430662|           1.890774735202905|           2.2818251097350832|        0.2137511192329857|    -0.6000423631746198|            2.852237928870887|         -0.40090641472700317|  -0.19319238543485454| 1.8308008991823335|                -0.21816364704111904|               -0.23042702610931884|-0.29499089004825707|              -0.09761489318040473|               -0.18745972298851685|[-0.2236665177286...|         0|\n",
            "|  1.3689600175148586|    0.7232908443860774|                  1.0709097623530524|   4.896430279604995| -1.0626859016034558|            -0.6056809952048873|         -0.7615432032710496|         -0.4132459537737996|         0.5282216134242196|           0.4996767140811707|          0.10569600584847036|         0.7534828061508597|   0.7490264705170114|           1.890774735202905|          0.05538138247615252|       -0.7829650882099728|     0.5509074607004246|         -0.43947075267669156|         -0.40090641472700317|   0.10183534028489459|  2.574347137711792|                -0.21816364704111904|               -0.23042702610931884|-0.29499089004825707|              -0.09761489318040473|               -0.18745972298851685|[1.36896001751485...|         1|\n",
            "| -1.0915309895306717|   -0.6357620557221809|                  0.4393524354380443|-0.44721507591715065| -0.5796442743163271|            -0.6056809952048873|          1.6486114866926267|         -0.5088311529634781|        -0.5067806688486699|           0.9871685507604806|          -0.6911653524727575|        -0.6328307882101439| -0.45142029045359255|           1.890774735202905|         -0.44551187211861903|       0.45558336858186077|    -0.6000423631746198|         -0.43947075267669156|         -0.40090641472700317|  -0.19319238543485454|  2.574347137711792|                -0.21816364704111904|               -0.23042702610931884|-0.29499089004825707|              -0.09761489318040473|               -0.18745972298851685|[-1.0915309895306...|         0|\n",
            "|  0.3830957976280827|  -0.40925323903747113|                 -0.0565766624706368|-0.00191129629030...|  0.9902410143668412|             2.0105972216977404|         -0.8320921506078616|        -0.01467185346624...|        -0.5067806688486699|          -0.1623173103192508|          0.16925768584629372|          -0.40177852248331|  -0.4478598947215987|           1.890774735202905|          0.47644694128381093|        0.4519099673259285|     0.5509074607004246|          0.09638858755441618|         -0.40090641472700317|  -0.09484981019493817| 1.0872546606528746|                -0.21816364704111904|               -0.23042702610931884|-0.29499089004825707|              -0.09761489318040473|               -0.18745972298851685|[0.38309579762808...|         0|\n",
            "|  1.6582804772855684|     0.270273211016658|                 -0.5304356631836712|  0.8886962629633856|-0.21736305385098056|             0.2918834774843096|          1.0109114142968088|         -0.5088311529634781|       -0.30433322195599577|           1.0480711781664522|          -0.5086853619352154|         0.2913782746971918|  0.17105556335667127|           1.890774735202905|         -0.06379056004440144|      -0.18664961766363283|     0.5509074607004246|          0.03548427196407165|         -0.09637209846431372|   -0.1768019562282018|  3.317893376241251|                -0.21816364704111904|               -0.23042702610931884|-0.29499089004825707|              -0.09761489318040473|               -0.18745972298851685|[1.65828047728556...|         1|\n",
            "| 0.07649023184205614|  -0.40925323903747113|                 -0.6324338589839789| -0.6698669657305734| -0.4588838674945449|           -3.42485322590762...|        -0.07971366259905209|         -0.5088311529634781|       -0.01772076594413...|           -0.128032859532026|         -0.08748730844862695|          -0.40177852248331| 0.016178349014937303|           1.890774735202905|         -0.44551187211861903|      -0.02685666303057...|    -0.6000423631746198|           0.7957016734554493|         -0.40090641472700317|  -0.19319238543485454| 1.8308008991823335|                -0.21816364704111904|                  3.204248918611018|-0.29499089004825707|              -0.09761489318040473|               -0.18745972298851685|[0.07649023184205...|         0|\n",
            "| 0.20180420913011657|  0.043764394331948286|                  1.0253030576087685| 0.22074059352311748| -0.4588838674945449|            -0.6056809952048873|        -0.19181114360531099|          1.5553834225854153|        -0.5067806688486699|           -0.555989029487336|         -0.25818469105838154|        0.06032600897035788| -0.41225593740165983|           1.890774735202905|          0.24851473762741785|        0.4151759547666057|     0.5509074607004246|         -0.43947075267669156|          0.24465085542529422|   -0.0620689517816327| 1.8308008991823335|                -0.21816364704111904|               -0.23042702610931884|-0.29499089004825707|              -0.09761489318040473|               -0.18745972298851685|[0.20180420913011...|         0|\n",
            "|  0.8204289752951618|     2.082343744494336|                  0.4068736505854128|-0.22456318610372794|  0.8694806075450591|            -0.1977661428384101|         -0.7398633958316786|         0.38916563463796566|       -0.05186239173079814|         -0.29719169001245394|          0.30384071683931335|         2.1397964005118637|   0.4997987692774397|           1.890774735202905|         -0.19049270817076222|       -0.5258270002947133|     0.5509074607004246|            0.631110710193498|          0.27871091120674624|  -0.07845938098828545| 1.8308008991823335|                -0.21816364704111904|               -0.23042702610931884|-0.29499089004825707|              -0.09761489318040473|               -0.18745972298851685|[0.82042897529516...|         1|\n",
            "|  1.1598916955475969|    0.7232908443860774|                 -0.5500704841126791| 0.22074059352311748| -1.0626859016034558|            -0.2958021820515352|         -0.5457719816939964|         -0.5088311529634781|        0.49714832066210285|         -0.26388096943087963|           1.8165050248744248|         0.7534828061508597|  0.10696844018078137|           1.890774735202905|           1.0061773066747954|      -0.12052839505685178|     0.5509074607004246|         -0.43947075267669156|         -0.40090641472700317|   0.23295877393811645| 1.8308008991823335|                -0.21816364704111904|               -0.23042702610931884|-0.29499089004825707|              -0.09761489318040473|               -0.18745972298851685|[1.15989169554759...|         1|\n",
            "| 0.07464464963477288|  0.043764394331948286|                  -0.515507961182811| 0.22074059352311748| -0.5796442743163271|            -0.6056809952048873|          1.5638888652309157|         -0.5088311529634781|          0.439163190144058|          -0.6706028843427574|           1.1508850430445268|        0.06032600897035788|   0.2565050609245244|           1.890774735202905|         -0.44551187211861903|       -0.2748112478060075|     2.8528071084505138|         -0.43947075267669156|         -0.40090641472700317|    2.4620571460428873| 1.0872546606528746|                -0.21816364704111904|               -0.23042702610931884|-0.29499089004825707|              -0.09761489318040473|               -0.18745972298851685|[0.07464464963477...|         1|\n",
            "|  1.7360392122573527|    1.8558349278096262|                  0.5214412327531273|  3.3378670509110355| -1.0626859016034558|            -0.6056809952048873|          1.1373221160841518|        -0.36571955253489846|        -0.4476644850712051|          -0.3951013937413117|         -0.33040683019644534|         1.4466396033313615|   3.0175919510857803|           1.890774735202905|           1.1660750199607992|        -2.130491115594464|    -0.6000423631746198|         -0.38997732258355533|         -0.20922470017554493|  -0.19319238543485454| 1.8308008991823335|                -0.21816364704111904|               -0.23042702610931884|-0.29499089004825707|                18.949266576438816|                  8.520101552430154|[1.73603921225735...|         1|\n",
            "|  0.9348124225074925|   -0.6357620557221809|                 -0.8317181754518322|  0.4433924833365402| -1.0626859016034558|            -0.6056809952048873|         -0.8320921506078616|         -0.5088311529634781|         1.7397891488322779|           0.9873600731684226|           1.4151975333037834|        -0.6328307882101439|  -0.4401457039689453|           1.890774735202905|         -0.44551187211861903|       0.44395093127140856|    -0.6000423631746198|         -0.43947075267669156|         -0.40090641472700317|  -0.19319238543485454| 1.0872546606528746|                -0.21816364704111904|               -0.23042702610931884|-0.29499089004825707|              -0.09761489318040473|               -0.18745972298851685|[0.93481242250749...|         0|\n",
            "|  0.3784029169144724|    1.8558349278096262|                 0.13214671654933802|  1.1113481527768083| -0.8211650879598915|             1.1072321163560914|        -0.10945539076465427|        -0.03345839713069913|        -0.5067806688486699|         -0.32665140930106884|          0.43795584682570743|         1.6776918690581955|   0.6629835736604927|           1.890774735202905|         -0.27162437712563775|       -0.6329678702594047|    -0.6000423631746198|         -0.16972684327867166|         -0.40090641472700317|  -0.19319238543485454| 1.8308008991823335|                 0.21068432660260564|               -0.23042702610931884|-0.29499089004825707|                 1.076668797918191|                  4.166320914720818|[0.37840291691447...|         1|\n",
            "| -0.9005177128966538|   -0.6357620557221809|                 -1.0879528736148145|-0.44721507591715065| 0.38643898025793033|             1.4104418776879415|         -0.8320921506078616|         -0.5088311529634781|        -0.5067806688486699|           3.3610670342992925|          -0.6911653524727575|        -0.6328307882101439|  -0.5137272157634856|           1.890774735202905|         -0.44551187211861903|        0.5198678905606757|    -0.6000423631746198|         -0.43947075267669156|           0.7457368331294918|  -0.19319238543485454| 1.8308008991823335|                -0.21816364704111904|               -0.23042702610931884|-0.29499089004825707|              -0.09761489318040473|               -0.18745972298851685|[-0.9005177128966...|         0|\n",
            "|  0.7067518582869606|  0.043764394331948286|                 0.35475908221901814|  2.4472594916573445| -1.0626859016034558|             1.4225984345563123|         -0.6999511858250819|          0.9222460975755594|       -0.42883132612907293|         -0.39860253290142744|         -0.49895494221843495|        0.06032600897035788| -0.22652196004931235|           1.890774735202905|         -0.23843848121801786|        0.2235468559154718|     0.5509074607004246|         -0.43947075267669156|           0.8734943436372262|   -0.1604115270215491| 1.8308008991823335|                -0.21816364704111904|               -0.23042702610931884|-0.29499089004825707|              -0.09761489318040473|               -0.18745972298851685|[0.70675185828696...|         1|\n",
            "| -1.4333286710155955|  -0.40925323903747113|                 -1.0879528736148145|-0.00191129629030...| -1.0626859016034558|            -0.6056809952048873|          1.4026635655152373|          1.5029423996693136|        -0.5067806688486699|           0.6408711679159802|           0.6156816301742774|          -0.40177852248331|  -0.3825859729683775|           1.890774735202905|         -0.44551187211861903|       0.38456427763383666|    -0.6000423631746198|         -0.43947075267669156|         -0.40090641472700317|  -0.19319238543485454| 1.0872546606528746|                -0.21816364704111904|               -0.23042702610931884|-0.29499089004825707|              -0.09761489318040473|               -0.18745972298851685|[-1.4333286710155...|         0|\n",
            "|  0.8278451082603543|    1.1763084777554969|                   0.642731215027802|   1.334000042590231| -0.8211650879598915|            0.00823915368631163|        -0.00256524093918...|         -0.5088311529634781|         0.5575778535510061|          -0.3487579296428977|         -0.26624780407145565|         1.2155873376045276|    0.585248266845293|           1.890774735202905|           0.3674932997832375|       -0.6139886304370881|      5.154706756200602|         -0.43947075267669156|         -0.04104571429298973|  0.052664052664936435|   4.06143961477071|                -0.21816364704111904|               -0.23042702610931884|-0.29499089004825707|              -0.09761489318040473|               -0.18745972298851685|[0.82784510826035...|         1|\n",
            "| -0.7666267203020615|   -0.6357620557221809|                 -0.3889183151083805|-0.44721507591715065|  0.7487202007232768|            -0.6056809952048873|         -0.8320921506078616|         -0.5088311529634781|        -0.5067806688486699|          -0.6706028843427574|          -0.6911653524727575|        -0.6328307882101439|  -0.4834638520415376|           1.890774735202905|         -0.44551187211861903|        0.4886439798852513|    -0.6000423631746198|         -0.43947075267669156|           3.7310111072710788|  -0.19319238543485454| 1.8308008991823335|                  3.7542398699594304|               -0.23042702610931884|-0.29499089004825707|              -0.09761489318040473|               -0.18745972298851685|[-0.7666267203020...|         0|\n",
            "| 0.20249628831749272|  -0.40925323903747113|                 -1.0879528736148145|  0.6660443731499629| -0.4588838674945449|            -0.6056809952048873|         -0.8320921506078616|         -0.5088311529634781|        0.02161640818099787|            5.608885768783242|          -0.6911653524727575|          -0.40177852248331|  -0.4247173224636385|           1.890774735202905|         -0.44551187211861903|        0.4280328591623687|    -0.6000423631746198|         -0.43947075267669156|         -0.40090641472700317|  -0.19319238543485454|0.34370842212341585|                -0.21816364704111904|               -0.23042702610931884|-0.29499089004825707|              -0.09761489318040473|               -0.18745972298851685|[0.20249628831749...|         0|\n",
            "| -0.6415329173491919|    0.7232908443860774|                 -1.0879528736148145| 0.22074059352311748| -0.3381234606727628|            -0.6056809952048873|           3.157638443279434|         -0.5088311529634781|        -0.5067806688486699|          -0.6706028843427574|          -0.6911653524727575|         0.2913782746971918|   1.2000099299029034|           1.890774735202905|            2.708707922771209|       -1.0645925178314477|    -0.6000423631746198|         -0.43947075267669156|         -0.40090641472700317|  -0.19319238543485454| 1.0872546606528746|                -0.21816364704111904|               -0.23042702610931884|-0.29499089004825707|                 3.425236180115383|                  8.520101552430154|[-0.6415329173491...|         1|\n",
            "+--------------------+----------------------+------------------------------------+--------------------+--------------------+-------------------------------+----------------------------+----------------------------+---------------------------+-----------------------------+-----------------------------+---------------------------+---------------------+----------------------------+-----------------------------+--------------------------+-----------------------+-----------------------------+-----------------------------+----------------------+-------------------+------------------------------------+-----------------------------------+--------------------+----------------------------------+-----------------------------------+--------------------+----------+\n",
            "only showing top 20 rows\n",
            "\n"
          ],
          "name": "stdout"
        }
      ]
    },
    {
      "cell_type": "code",
      "metadata": {
        "id": "-FaKJLttMSEo",
        "colab_type": "code",
        "colab": {}
      },
      "source": [
        "for i in range(2,100):\n",
        "    kmeans = KMeans(k=i, seed=42) \n",
        "    model = kmeans.fit(train_df.select('features'))\n",
        "    cost = model.computeCost(train_df)\n",
        "    \n",
        "    # Make predictions\n",
        "    predictions = model.transform(train_df)\n",
        "\n",
        "    # Evaluate clustering by computing Silhouette score\n",
        "    evaluator = ClusteringEvaluator()\n",
        "\n",
        "    silhouette = evaluator.evaluate(predictions)\n",
        "    print(i, cost, silhouette_score)\n",
        "\n",
        "    # Shows the result.\n",
        "    #centers = model.clusterCenters()\n",
        "    #print(\"Cluster Centers: \")\n",
        "    #for center in centers:\n",
        "    #    print(center)"
      ],
      "execution_count": 0,
      "outputs": []
    },
    {
      "cell_type": "code",
      "metadata": {
        "id": "e3wvQa2ofGSV",
        "colab_type": "code",
        "colab": {}
      },
      "source": [
        "data = np.array([[2, 34108285.45395221, 0.35623675817434414],\n",
        "[3, 33068428.697895456, 0.23247222523550898],\n",
        "[4, 31372970.29455901, 0.06518590836296437],\n",
        "[5, 30374156.7988558, 0.10812559178358663],\n",
        "[6, 29339304.771187697, 0.11384034752106144],\n",
        "[7, 28481000.02717915, 0.13601242755452267],\n",
        "[8, 27806865.934101358, 0.10538060582522213],\n",
        "[9, 26655544.668956067, 0.14256804458454952],\n",
        "[10, 25876526.99388953, 0.1433157801654074],\n",
        "[11, 24903831.52747007, 0.16784070188436861],\n",
        "[12, 24240707.38244125, 0.16977420351262487],\n",
        "[13, 23226966.402522348, 0.15683724942779492],\n",
        "[14, 21935341.085451957, 0.18629750510675602],\n",
        "[15, 21463247.006589293, 0.20951803507589079],\n",
        "[16, 20340992.64433414, 0.2099820589879696],\n",
        "[17, 20152829.317581665, 0.21237819656809903],\n",
        "[18, 19470092.649169605, 0.18273363309229562],\n",
        "[19, 18786899.17408782, 0.20472374733972118],\n",
        "[20, 18355552.880109232, 0.1987905659565371],\n",
        "[21, 17505375.470361996, 0.21073589585849342],\n",
        "[22, 18108457.53648358, 0.1943716980359304],\n",
        "[23, 17170931.94309841, 0.20141946326734028],\n",
        "[24, 16624961.729605021, 0.21432294092634727],\n",
        "[25, 16545067.399060573, 0.21495574270871645],\n",
        "[26, 16514694.416570978, 0.19398607011228755],\n",
        "[27, 15943873.381710406, 0.19388345694016565],\n",
        "[28, 15758852.047461867, 0.2043457894516444],\n",
        "[29, 16084365.599573346, 0.19853023578572182],\n",
        "[30, 15449843.352047468, 0.20322709035733225],\n",
        "[31, 15199240.822174236, 0.20789632713620476],\n",
        "[32, 15122123.406696528, 0.20869966477409393],\n",
        "[33, 14833293.894855892, 0.1957556718180235],\n",
        "[34, 14871855.88415188, 0.20015649407226555],\n",
        "[35, 14974888.901705408, 0.1852417588279316],\n",
        "[36, 14543368.034821356, 0.21169611116436524],\n",
        "[37, 14576541.065633526, 0.18573879391434964],\n",
        "[38, 14474352.469131252, 0.18956600221202882],\n",
        "[39, 14255825.300158285, 0.1788115689044209],\n",
        "[40, 14137271.377735797, 0.18948182294696958],\n",
        "[41, 13963702.583961226, 0.18213406902765858],\n",
        "[42, 13730271.460833658, 0.195304768352631],\n",
        "[43, 13686708.396873973, 0.19578940327578817],\n",
        "[44, 13619843.654508471, 0.18420219258229867],\n",
        "[45, 13511111.189698363, 0.19573093930302393],\n",
        "[46, 13290273.62608452, 0.1902547306043693],\n",
        "[47, 13289543.325750258, 0.17565761804441074],\n",
        "[48, 13129006.581908906, 0.18025246971334064],\n",
        "[49, 13158635.91108229, 0.18405606327756918],\n",
        "[50, 12909514.878511624, 0.18730782015140862]]\n",
        ")\n",
        "df = pd.DataFrame(data, columns = [\"num_clusters\", \"score\", \"silhouette\"])"
      ],
      "execution_count": 0,
      "outputs": []
    },
    {
      "cell_type": "code",
      "metadata": {
        "id": "tPYWZ2OIfyXT",
        "colab_type": "code",
        "colab": {
          "base_uri": "https://localhost:8080/",
          "height": 354
        },
        "outputId": "4c49133c-cf9c-4e18-de84-c010f5483170"
      },
      "source": [
        "plt.plot(df['num_clusters'], df['score'])\n",
        "plt.xlabel('Number of Clusters')\n",
        "plt.ylabel('Score')\n",
        "plt.title('Elbow Curve')\n",
        "plt.show()"
      ],
      "execution_count": 37,
      "outputs": [
        {
          "output_type": "display_data",
          "data": {
            "image/png": "[encoded data removed]",
            "text/plain": [
              "<Figure size 720x360 with 1 Axes>"
            ]
          },
          "metadata": {
            "tags": []
          }
        }
      ]
    },
    {
      "cell_type": "code",
      "metadata": {
        "id": "uuUM5SLDggIZ",
        "colab_type": "code",
        "colab": {
          "base_uri": "https://localhost:8080/",
          "height": 354
        },
        "outputId": "84d0c992-1bfe-4b28-ab35-f6313ff9d6c9"
      },
      "source": [
        "plt.scatter(df['num_clusters'], df['silhouette'])\n",
        "plt.xlabel('Number of Clusters')\n",
        "plt.ylabel('Score')\n",
        "plt.title('Silhouette with squared euclidean distance')\n",
        "plt.show()"
      ],
      "execution_count": 38,
      "outputs": [
        {
          "output_type": "display_data",
          "data": {
            "image/png": "[encoded data removed]",
            "text/plain": [
              "<Figure size 720x360 with 1 Axes>"
            ]
          },
          "metadata": {
            "tags": []
          }
        }
      ]
    },
    {
      "cell_type": "code",
      "metadata": {
        "id": "15dimrkDiWfa",
        "colab_type": "code",
        "colab": {}
      },
      "source": [
        "#import os\n",
        "#os.system('say \"your program has finished\"')"
      ],
      "execution_count": 0,
      "outputs": []
    },
    {
      "cell_type": "markdown",
      "metadata": {
        "id": "GMvIwstCfIu7",
        "colab_type": "text"
      },
      "source": [
        "### References:\n",
        "1. https://stackoverflow.com/questions/47585723/kmeans-clustering-in-pyspark\n",
        "2. https://spark.apache.org/docs/latest/ml-clustering.html - example silhouette \n",
        "3. https://blog.cambridgespark.com/how-to-determine-the-optimal-number-of-clusters-for-k-means-clustering-14f27070048f\n",
        "4. http://spark.apache.org/docs/latest/api/python/pyspark.mllib.html?highlight=kmeans#pyspark.mllib.clustering.KMeansModel.clusterCenters\n",
        "5. https://stats.stackexchange.com/questions/135656/k-means-a-k-a-scalable-k-means\n",
        "6. https://towardsdatascience.com/clustering-metrics-better-than-the-elbow-method-6926e1f723a6 \n",
        "7. https://datascience-enthusiast.com/Python/DBSCAN_Kmeans.html - DBSCAN"
      ]
    },
    {
      "cell_type": "code",
      "metadata": {
        "id": "d1J-EkVuoZSa",
        "colab_type": "code",
        "colab": {}
      },
      "source": [
        ""
      ],
      "execution_count": 0,
      "outputs": []
    }
  ]
}